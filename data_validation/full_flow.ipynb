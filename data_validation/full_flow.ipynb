{
 "cells": [
  {
   "cell_type": "code",
   "execution_count": 1,
   "metadata": {},
   "outputs": [],
   "source": [
    "import great_expectations as gx\n",
    "from great_expectations.checkpoint import Checkpoint\n",
    "\n",
    "# Create a DataContext as an entry point to the GX Python API\n",
    "context = gx.get_context()"
   ]
  },
  {
   "cell_type": "code",
   "execution_count": null,
   "metadata": {},
   "outputs": [],
   "source": [
    "datasource_name = \"nguyentn-nyctaxi\"\n",
    "my_connection_string = (\n",
    "    \"postgresql+psycopg2://k6:k6@localhost:5432/k6\"\n",
    ")\n",
    "\n",
    "pg_datasource = context.sources.add_postgres(\n",
    "    name=datasource_name, connection_string=my_connection_string\n",
    ")"
   ]
  },
  {
   "cell_type": "code",
   "execution_count": null,
   "metadata": {},
   "outputs": [],
   "source": [
    "pg_datasource.add_table_asset(\n",
    "    name=\"postgres_taxi_data\", table_name=\"nyc_taxi_test\", schema_name=\"staging\"\n",
    ")"
   ]
  },
  {
   "cell_type": "code",
   "execution_count": null,
   "metadata": {},
   "outputs": [],
   "source": [
    "batch_request = pg_datasource.get_asset(\"postgres_taxi_data\").build_batch_request()"
   ]
  },
  {
   "cell_type": "code",
   "execution_count": 37,
   "metadata": {},
   "outputs": [
    {
     "data": {
      "application/vnd.jupyter.widget-view+json": {
       "model_id": "625964f9ed4642ea933bdcf224450cb8",
       "version_major": 2,
       "version_minor": 0
      },
      "text/plain": [
       "Calculating Metrics:   0%|          | 0/1 [00:00<?, ?it/s]"
      ]
     },
     "metadata": {},
     "output_type": "display_data"
    },
    {
     "name": "stderr",
     "output_type": "stream",
     "text": [
      "Exceptions\n",
      "{('table.head', 'batch_id=nguyentn-nyctaxi-postgres_taxi_data', '04166707abe073177c1dd922d3584468'): {'metric_configuration': {\n",
      "  \"metric_name\": \"table.head\",\n",
      "  \"metric_domain_kwargs\": {\n",
      "    \"batch_id\": \"nguyentn-nyctaxi-postgres_taxi_data\"\n",
      "  },\n",
      "  \"metric_domain_kwargs_id\": \"batch_id=nguyentn-nyctaxi-postgres_taxi_data\",\n",
      "  \"metric_value_kwargs\": {\n",
      "    \"n_rows\": 5,\n",
      "    \"fetch_all\": false\n",
      "  },\n",
      "  \"metric_value_kwargs_id\": \"04166707abe073177c1dd922d3584468\",\n",
      "  \"id\": [\n",
      "    \"table.head\",\n",
      "    \"batch_id=nguyentn-nyctaxi-postgres_taxi_data\",\n",
      "    \"04166707abe073177c1dd922d3584468\"\n",
      "  ]\n",
      "}, 'num_failures': 3, 'exception_info': {{'exception_traceback': 'Traceback (most recent call last):\\n  File \"/home/nhatnguyen18/anaconda3/envs/bigdata/lib/python3.9/site-packages/great_expectations/execution_engine/execution_engine.py\", line 548, in _process_direct_and_bundled_metric_computation_configurations\\n    ] = metric_computation_configuration.metric_fn(  # type: ignore[misc] # F not callable\\n  File \"/home/nhatnguyen18/anaconda3/envs/bigdata/lib/python3.9/site-packages/great_expectations/expectations/metrics/metric_provider.py\", line 60, in inner_func\\n    return metric_fn(*args, **kwargs)\\n  File \"/home/nhatnguyen18/anaconda3/envs/bigdata/lib/python3.9/site-packages/great_expectations/expectations/metrics/table_metrics/table_head.py\", line 109, in _sqlalchemy\\n    df_chunk_iterator = read_sql_table_as_df(\\n  File \"/home/nhatnguyen18/anaconda3/envs/bigdata/lib/python3.9/site-packages/great_expectations/compatibility/sqlalchemy_compatibility_wrappers.py\", line 67, in read_sql_table_as_df\\n    return _read_sql_table_as_df(\\n  File \"/home/nhatnguyen18/anaconda3/envs/bigdata/lib/python3.9/site-packages/great_expectations/compatibility/sqlalchemy_compatibility_wrappers.py\", line 133, in _read_sql_table_as_df\\n    return pd.read_sql_query(\\n  File \"/home/nhatnguyen18/anaconda3/envs/bigdata/lib/python3.9/site-packages/pandas/io/sql.py\", line 526, in read_sql_query\\n    return pandas_sql.read_query(\\n  File \"/home/nhatnguyen18/anaconda3/envs/bigdata/lib/python3.9/site-packages/pandas/io/sql.py\", line 2738, in read_query\\n    cursor = self.execute(sql, params)\\n  File \"/home/nhatnguyen18/anaconda3/envs/bigdata/lib/python3.9/site-packages/pandas/io/sql.py\", line 2672, in execute\\n    cur = self.con.cursor()\\nAttributeError: \\'Connection\\' object has no attribute \\'cursor\\'\\n\\nThe above exception was the direct cause of the following exception:\\n\\nTraceback (most recent call last):\\n  File \"/home/nhatnguyen18/anaconda3/envs/bigdata/lib/python3.9/site-packages/great_expectations/validator/validation_graph.py\", line 285, in _resolve\\n    self._execution_engine.resolve_metrics(\\n  File \"/home/nhatnguyen18/anaconda3/envs/bigdata/lib/python3.9/site-packages/great_expectations/execution_engine/execution_engine.py\", line 283, in resolve_metrics\\n    return self._process_direct_and_bundled_metric_computation_configurations(\\n  File \"/home/nhatnguyen18/anaconda3/envs/bigdata/lib/python3.9/site-packages/great_expectations/execution_engine/execution_engine.py\", line 552, in _process_direct_and_bundled_metric_computation_configurations\\n    raise gx_exceptions.MetricResolutionError(\\ngreat_expectations.exceptions.exceptions.MetricResolutionError: \\'Connection\\' object has no attribute \\'cursor\\'\\n', 'exception_message': \"'Connection' object has no attribute 'cursor'\", 'raised_exception': True}}}}\n",
      "occurred while resolving metrics.\n"
     ]
    },
    {
     "ename": "KeyError",
     "evalue": "('table.head', 'batch_id=nguyentn-nyctaxi-postgres_taxi_data', '04166707abe073177c1dd922d3584468')",
     "output_type": "error",
     "traceback": [
      "\u001b[0;31m---------------------------------------------------------------------------\u001b[0m",
      "\u001b[0;31mKeyError\u001b[0m                                  Traceback (most recent call last)",
      "Cell \u001b[0;32mIn[37], line 8\u001b[0m\n\u001b[1;32m      2\u001b[0m context\u001b[38;5;241m.\u001b[39madd_or_update_expectation_suite(expectation_suite_name\u001b[38;5;241m=\u001b[39mexpectation_suite_name)\n\u001b[1;32m      3\u001b[0m validator \u001b[38;5;241m=\u001b[39m context\u001b[38;5;241m.\u001b[39mget_validator(\n\u001b[1;32m      4\u001b[0m     batch_request\u001b[38;5;241m=\u001b[39mbatch_request,\n\u001b[1;32m      5\u001b[0m     expectation_suite_name\u001b[38;5;241m=\u001b[39mexpectation_suite_name,\n\u001b[1;32m      6\u001b[0m )\n\u001b[0;32m----> 8\u001b[0m \u001b[38;5;28mprint\u001b[39m(\u001b[43mvalidator\u001b[49m\u001b[38;5;241;43m.\u001b[39;49m\u001b[43mhead\u001b[49m\u001b[43m(\u001b[49m\u001b[43m)\u001b[49m)\n",
      "File \u001b[0;32m~/anaconda3/envs/bigdata/lib/python3.9/site-packages/great_expectations/validator/validator.py:433\u001b[0m, in \u001b[0;36mValidator.head\u001b[0;34m(self, n_rows, domain_kwargs, fetch_all)\u001b[0m\n\u001b[1;32m    416\u001b[0m \u001b[38;5;129m@public_api\u001b[39m\n\u001b[1;32m    417\u001b[0m \u001b[38;5;28;01mdef\u001b[39;00m \u001b[38;5;21mhead\u001b[39m(\n\u001b[1;32m    418\u001b[0m     \u001b[38;5;28mself\u001b[39m,\n\u001b[0;32m   (...)\u001b[0m\n\u001b[1;32m    421\u001b[0m     fetch_all: \u001b[38;5;28mbool\u001b[39m \u001b[38;5;241m=\u001b[39m \u001b[38;5;28;01mFalse\u001b[39;00m,\n\u001b[1;32m    422\u001b[0m ) \u001b[38;5;241m-\u001b[39m\u001b[38;5;241m>\u001b[39m pd\u001b[38;5;241m.\u001b[39mDataFrame:\n\u001b[1;32m    423\u001b[0m \u001b[38;5;250m    \u001b[39m\u001b[38;5;124;03m\"\"\"Convenience method to return the first several rows or records from a Batch of data.\u001b[39;00m\n\u001b[1;32m    424\u001b[0m \n\u001b[1;32m    425\u001b[0m \u001b[38;5;124;03m    Args:\u001b[39;00m\n\u001b[0;32m   (...)\u001b[0m\n\u001b[1;32m    431\u001b[0m \u001b[38;5;124;03m        A Pandas DataFrame containing the records' data.\u001b[39;00m\n\u001b[1;32m    432\u001b[0m \u001b[38;5;124;03m    \"\"\"\u001b[39;00m\n\u001b[0;32m--> 433\u001b[0m     \u001b[38;5;28;01mreturn\u001b[39;00m \u001b[38;5;28;43mself\u001b[39;49m\u001b[38;5;241;43m.\u001b[39;49m\u001b[43m_metrics_calculator\u001b[49m\u001b[38;5;241;43m.\u001b[39;49m\u001b[43mhead\u001b[49m\u001b[43m(\u001b[49m\n\u001b[1;32m    434\u001b[0m \u001b[43m        \u001b[49m\u001b[43mn_rows\u001b[49m\u001b[38;5;241;43m=\u001b[39;49m\u001b[43mn_rows\u001b[49m\u001b[43m,\u001b[49m\u001b[43m \u001b[49m\u001b[43mdomain_kwargs\u001b[49m\u001b[38;5;241;43m=\u001b[39;49m\u001b[43mdomain_kwargs\u001b[49m\u001b[43m,\u001b[49m\u001b[43m \u001b[49m\u001b[43mfetch_all\u001b[49m\u001b[38;5;241;43m=\u001b[39;49m\u001b[43mfetch_all\u001b[49m\n\u001b[1;32m    435\u001b[0m \u001b[43m    \u001b[49m\u001b[43m)\u001b[49m\n",
      "File \u001b[0;32m~/anaconda3/envs/bigdata/lib/python3.9/site-packages/great_expectations/validator/metrics_calculator.py:108\u001b[0m, in \u001b[0;36mMetricsCalculator.head\u001b[0;34m(self, n_rows, domain_kwargs, fetch_all)\u001b[0m\n\u001b[1;32m    103\u001b[0m \u001b[38;5;28;01mif\u001b[39;00m domain_kwargs\u001b[38;5;241m.\u001b[39mget(\u001b[38;5;124m\"\u001b[39m\u001b[38;5;124mbatch_id\u001b[39m\u001b[38;5;124m\"\u001b[39m) \u001b[38;5;129;01mis\u001b[39;00m \u001b[38;5;28;01mNone\u001b[39;00m:\n\u001b[1;32m    104\u001b[0m     domain_kwargs[\n\u001b[1;32m    105\u001b[0m         \u001b[38;5;124m\"\u001b[39m\u001b[38;5;124mbatch_id\u001b[39m\u001b[38;5;124m\"\u001b[39m\n\u001b[1;32m    106\u001b[0m     ] \u001b[38;5;241m=\u001b[39m \u001b[38;5;28mself\u001b[39m\u001b[38;5;241m.\u001b[39m_execution_engine\u001b[38;5;241m.\u001b[39mbatch_manager\u001b[38;5;241m.\u001b[39mactive_batch_id\n\u001b[0;32m--> 108\u001b[0m df: pd\u001b[38;5;241m.\u001b[39mDataFrame \u001b[38;5;241m=\u001b[39m \u001b[38;5;28;43mself\u001b[39;49m\u001b[38;5;241;43m.\u001b[39;49m\u001b[43mget_metric\u001b[49m\u001b[43m(\u001b[49m\n\u001b[1;32m    109\u001b[0m \u001b[43m    \u001b[49m\u001b[43mmetric\u001b[49m\u001b[38;5;241;43m=\u001b[39;49m\u001b[43mMetricConfiguration\u001b[49m\u001b[43m(\u001b[49m\n\u001b[1;32m    110\u001b[0m \u001b[43m        \u001b[49m\u001b[43mmetric_name\u001b[49m\u001b[38;5;241;43m=\u001b[39;49m\u001b[38;5;124;43m\"\u001b[39;49m\u001b[38;5;124;43mtable.head\u001b[39;49m\u001b[38;5;124;43m\"\u001b[39;49m\u001b[43m,\u001b[49m\n\u001b[1;32m    111\u001b[0m \u001b[43m        \u001b[49m\u001b[43mmetric_domain_kwargs\u001b[49m\u001b[38;5;241;43m=\u001b[39;49m\u001b[43mdomain_kwargs\u001b[49m\u001b[43m,\u001b[49m\n\u001b[1;32m    112\u001b[0m \u001b[43m        \u001b[49m\u001b[43mmetric_value_kwargs\u001b[49m\u001b[38;5;241;43m=\u001b[39;49m\u001b[43m{\u001b[49m\n\u001b[1;32m    113\u001b[0m \u001b[43m            \u001b[49m\u001b[38;5;124;43m\"\u001b[39;49m\u001b[38;5;124;43mn_rows\u001b[39;49m\u001b[38;5;124;43m\"\u001b[39;49m\u001b[43m:\u001b[49m\u001b[43m \u001b[49m\u001b[43mn_rows\u001b[49m\u001b[43m,\u001b[49m\n\u001b[1;32m    114\u001b[0m \u001b[43m            \u001b[49m\u001b[38;5;124;43m\"\u001b[39;49m\u001b[38;5;124;43mfetch_all\u001b[39;49m\u001b[38;5;124;43m\"\u001b[39;49m\u001b[43m:\u001b[49m\u001b[43m \u001b[49m\u001b[43mfetch_all\u001b[49m\u001b[43m,\u001b[49m\n\u001b[1;32m    115\u001b[0m \u001b[43m        \u001b[49m\u001b[43m}\u001b[49m\u001b[43m,\u001b[49m\n\u001b[1;32m    116\u001b[0m \u001b[43m    \u001b[49m\u001b[43m)\u001b[49m\n\u001b[1;32m    117\u001b[0m \u001b[43m\u001b[49m\u001b[43m)\u001b[49m\n\u001b[1;32m    119\u001b[0m \u001b[38;5;28;01mreturn\u001b[39;00m df\u001b[38;5;241m.\u001b[39mreset_index(drop\u001b[38;5;241m=\u001b[39m\u001b[38;5;28;01mTrue\u001b[39;00m, inplace\u001b[38;5;241m=\u001b[39m\u001b[38;5;28;01mFalse\u001b[39;00m)\n",
      "File \u001b[0;32m~/anaconda3/envs/bigdata/lib/python3.9/site-packages/great_expectations/validator/metrics_calculator.py:126\u001b[0m, in \u001b[0;36mMetricsCalculator.get_metric\u001b[0;34m(self, metric)\u001b[0m\n\u001b[1;32m    121\u001b[0m \u001b[38;5;28;01mdef\u001b[39;00m \u001b[38;5;21mget_metric\u001b[39m(\n\u001b[1;32m    122\u001b[0m     \u001b[38;5;28mself\u001b[39m,\n\u001b[1;32m    123\u001b[0m     metric: MetricConfiguration,\n\u001b[1;32m    124\u001b[0m ) \u001b[38;5;241m-\u001b[39m\u001b[38;5;241m>\u001b[39m Any:\n\u001b[1;32m    125\u001b[0m \u001b[38;5;250m    \u001b[39m\u001b[38;5;124;03m\"\"\"return the value of the requested metric.\"\"\"\u001b[39;00m\n\u001b[0;32m--> 126\u001b[0m     \u001b[38;5;28;01mreturn\u001b[39;00m \u001b[38;5;28;43mself\u001b[39;49m\u001b[38;5;241;43m.\u001b[39;49m\u001b[43mget_metrics\u001b[49m\u001b[43m(\u001b[49m\n\u001b[1;32m    127\u001b[0m \u001b[43m        \u001b[49m\u001b[43mmetrics\u001b[49m\u001b[38;5;241;43m=\u001b[39;49m\u001b[43m{\u001b[49m\u001b[43mmetric\u001b[49m\u001b[38;5;241;43m.\u001b[39;49m\u001b[43mmetric_name\u001b[49m\u001b[43m:\u001b[49m\u001b[43m \u001b[49m\u001b[43mmetric\u001b[49m\u001b[43m}\u001b[49m\u001b[43m,\u001b[49m\n\u001b[1;32m    128\u001b[0m \u001b[43m    \u001b[49m\u001b[43m)\u001b[49m[metric\u001b[38;5;241m.\u001b[39mmetric_name]\n",
      "File \u001b[0;32m~/anaconda3/envs/bigdata/lib/python3.9/site-packages/great_expectations/validator/metrics_calculator.py:146\u001b[0m, in \u001b[0;36mMetricsCalculator.get_metrics\u001b[0;34m(self, metrics)\u001b[0m\n\u001b[1;32m    134\u001b[0m \u001b[38;5;250m\u001b[39m\u001b[38;5;124;03m\"\"\"\u001b[39;00m\n\u001b[1;32m    135\u001b[0m \u001b[38;5;124;03mArgs:\u001b[39;00m\n\u001b[1;32m    136\u001b[0m \u001b[38;5;124;03m    metrics: Dictionary of desired metrics to be resolved; metric_name is key and MetricConfiguration is value.\u001b[39;00m\n\u001b[0;32m   (...)\u001b[0m\n\u001b[1;32m    139\u001b[0m \u001b[38;5;124;03m    Return Dictionary with requested metrics resolved, with metric_name as key and computed metric as value.\u001b[39;00m\n\u001b[1;32m    140\u001b[0m \u001b[38;5;124;03m\"\"\"\u001b[39;00m\n\u001b[1;32m    141\u001b[0m resolved_metrics: _MetricsDict \u001b[38;5;241m=\u001b[39m \u001b[38;5;28mself\u001b[39m\u001b[38;5;241m.\u001b[39mcompute_metrics(\n\u001b[1;32m    142\u001b[0m     metric_configurations\u001b[38;5;241m=\u001b[39m\u001b[38;5;28mlist\u001b[39m(metrics\u001b[38;5;241m.\u001b[39mvalues()),\n\u001b[1;32m    143\u001b[0m     runtime_configuration\u001b[38;5;241m=\u001b[39m\u001b[38;5;28;01mNone\u001b[39;00m,\n\u001b[1;32m    144\u001b[0m     min_graph_edges_pbar_enable\u001b[38;5;241m=\u001b[39m\u001b[38;5;241m0\u001b[39m,\n\u001b[1;32m    145\u001b[0m )\n\u001b[0;32m--> 146\u001b[0m \u001b[38;5;28;01mreturn\u001b[39;00m {\n\u001b[1;32m    147\u001b[0m     metric_configuration\u001b[38;5;241m.\u001b[39mmetric_name: resolved_metrics[metric_configuration\u001b[38;5;241m.\u001b[39mid]\n\u001b[1;32m    148\u001b[0m     \u001b[38;5;28;01mfor\u001b[39;00m metric_configuration \u001b[38;5;129;01min\u001b[39;00m metrics\u001b[38;5;241m.\u001b[39mvalues()\n\u001b[1;32m    149\u001b[0m }\n",
      "File \u001b[0;32m~/anaconda3/envs/bigdata/lib/python3.9/site-packages/great_expectations/validator/metrics_calculator.py:147\u001b[0m, in \u001b[0;36m<dictcomp>\u001b[0;34m(.0)\u001b[0m\n\u001b[1;32m    134\u001b[0m \u001b[38;5;250m\u001b[39m\u001b[38;5;124;03m\"\"\"\u001b[39;00m\n\u001b[1;32m    135\u001b[0m \u001b[38;5;124;03mArgs:\u001b[39;00m\n\u001b[1;32m    136\u001b[0m \u001b[38;5;124;03m    metrics: Dictionary of desired metrics to be resolved; metric_name is key and MetricConfiguration is value.\u001b[39;00m\n\u001b[0;32m   (...)\u001b[0m\n\u001b[1;32m    139\u001b[0m \u001b[38;5;124;03m    Return Dictionary with requested metrics resolved, with metric_name as key and computed metric as value.\u001b[39;00m\n\u001b[1;32m    140\u001b[0m \u001b[38;5;124;03m\"\"\"\u001b[39;00m\n\u001b[1;32m    141\u001b[0m resolved_metrics: _MetricsDict \u001b[38;5;241m=\u001b[39m \u001b[38;5;28mself\u001b[39m\u001b[38;5;241m.\u001b[39mcompute_metrics(\n\u001b[1;32m    142\u001b[0m     metric_configurations\u001b[38;5;241m=\u001b[39m\u001b[38;5;28mlist\u001b[39m(metrics\u001b[38;5;241m.\u001b[39mvalues()),\n\u001b[1;32m    143\u001b[0m     runtime_configuration\u001b[38;5;241m=\u001b[39m\u001b[38;5;28;01mNone\u001b[39;00m,\n\u001b[1;32m    144\u001b[0m     min_graph_edges_pbar_enable\u001b[38;5;241m=\u001b[39m\u001b[38;5;241m0\u001b[39m,\n\u001b[1;32m    145\u001b[0m )\n\u001b[1;32m    146\u001b[0m \u001b[38;5;28;01mreturn\u001b[39;00m {\n\u001b[0;32m--> 147\u001b[0m     metric_configuration\u001b[38;5;241m.\u001b[39mmetric_name: \u001b[43mresolved_metrics\u001b[49m\u001b[43m[\u001b[49m\u001b[43mmetric_configuration\u001b[49m\u001b[38;5;241;43m.\u001b[39;49m\u001b[43mid\u001b[49m\u001b[43m]\u001b[49m\n\u001b[1;32m    148\u001b[0m     \u001b[38;5;28;01mfor\u001b[39;00m metric_configuration \u001b[38;5;129;01min\u001b[39;00m metrics\u001b[38;5;241m.\u001b[39mvalues()\n\u001b[1;32m    149\u001b[0m }\n",
      "\u001b[0;31mKeyError\u001b[0m: ('table.head', 'batch_id=nguyentn-nyctaxi-postgres_taxi_data', '04166707abe073177c1dd922d3584468')"
     ]
    }
   ],
   "source": [
    "expectation_suite_name = \"insert_your_expectation_suite_name_here\"\n",
    "context.add_or_update_expectation_suite(expectation_suite_name=expectation_suite_name)\n",
    "validator = context.get_validator(\n",
    "    batch_request=batch_request,\n",
    "    expectation_suite_name=expectation_suite_name,\n",
    ")\n",
    "\n",
    "print(validator.head())"
   ]
  },
  {
   "cell_type": "code",
   "execution_count": 42,
   "metadata": {},
   "outputs": [
    {
     "data": {
      "application/vnd.jupyter.widget-view+json": {
       "model_id": "f82bedc029df437d8511d1e5493a0ba3",
       "version_major": 2,
       "version_minor": 0
      },
      "text/plain": [
       "Calculating Metrics:   0%|          | 0/8 [00:00<?, ?it/s]"
      ]
     },
     "metadata": {},
     "output_type": "display_data"
    },
    {
     "data": {
      "application/vnd.jupyter.widget-view+json": {
       "model_id": "794e08a22e624eb6aacc993998adff23",
       "version_major": 2,
       "version_minor": 0
      },
      "text/plain": [
       "Calculating Metrics:   0%|          | 0/8 [00:00<?, ?it/s]"
      ]
     },
     "metadata": {},
     "output_type": "display_data"
    },
    {
     "data": {
      "application/vnd.jupyter.widget-view+json": {
       "model_id": "d7a0003a9d29499f8274a32212d079dc",
       "version_major": 2,
       "version_minor": 0
      },
      "text/plain": [
       "Calculating Metrics:   0%|          | 0/8 [00:00<?, ?it/s]"
      ]
     },
     "metadata": {},
     "output_type": "display_data"
    },
    {
     "data": {
      "application/vnd.jupyter.widget-view+json": {
       "model_id": "ccce466c2b384d5497c78da84d8bb05e",
       "version_major": 2,
       "version_minor": 0
      },
      "text/plain": [
       "Calculating Metrics:   0%|          | 0/8 [00:00<?, ?it/s]"
      ]
     },
     "metadata": {},
     "output_type": "display_data"
    },
    {
     "data": {
      "application/vnd.jupyter.widget-view+json": {
       "model_id": "20455e15cdbb4d5faef7bf01b183b75a",
       "version_major": 2,
       "version_minor": 0
      },
      "text/plain": [
       "Calculating Metrics:   0%|          | 0/8 [00:00<?, ?it/s]"
      ]
     },
     "metadata": {},
     "output_type": "display_data"
    },
    {
     "data": {
      "application/vnd.jupyter.widget-view+json": {
       "model_id": "3615879d3ef34368ba9a64fa3ce07418",
       "version_major": 2,
       "version_minor": 0
      },
      "text/plain": [
       "Calculating Metrics:   0%|          | 0/8 [00:00<?, ?it/s]"
      ]
     },
     "metadata": {},
     "output_type": "display_data"
    },
    {
     "data": {
      "application/vnd.jupyter.widget-view+json": {
       "model_id": "c6f9cec193ef427f80d2145db5f2168a",
       "version_major": 2,
       "version_minor": 0
      },
      "text/plain": [
       "Calculating Metrics:   0%|          | 0/8 [00:00<?, ?it/s]"
      ]
     },
     "metadata": {},
     "output_type": "display_data"
    },
    {
     "data": {
      "application/vnd.jupyter.widget-view+json": {
       "model_id": "bc89ca997dda4e4f93295e0ba43968fe",
       "version_major": 2,
       "version_minor": 0
      },
      "text/plain": [
       "Calculating Metrics:   0%|          | 0/8 [00:00<?, ?it/s]"
      ]
     },
     "metadata": {},
     "output_type": "display_data"
    },
    {
     "data": {
      "application/vnd.jupyter.widget-view+json": {
       "model_id": "0f9018ba2d5f4daab096e51d6aa4a1bf",
       "version_major": 2,
       "version_minor": 0
      },
      "text/plain": [
       "Calculating Metrics:   0%|          | 0/8 [00:00<?, ?it/s]"
      ]
     },
     "metadata": {},
     "output_type": "display_data"
    },
    {
     "data": {
      "application/vnd.jupyter.widget-view+json": {
       "model_id": "c9347b1a6be1431d94ad0454563fb208",
       "version_major": 2,
       "version_minor": 0
      },
      "text/plain": [
       "Calculating Metrics:   0%|          | 0/8 [00:00<?, ?it/s]"
      ]
     },
     "metadata": {},
     "output_type": "display_data"
    },
    {
     "data": {
      "application/vnd.jupyter.widget-view+json": {
       "model_id": "2b2d3c24636a434b91fc264a28433d87",
       "version_major": 2,
       "version_minor": 0
      },
      "text/plain": [
       "Calculating Metrics:   0%|          | 0/11 [00:00<?, ?it/s]"
      ]
     },
     "metadata": {},
     "output_type": "display_data"
    },
    {
     "data": {
      "application/vnd.jupyter.widget-view+json": {
       "model_id": "e007e275666647358de08142121b7a55",
       "version_major": 2,
       "version_minor": 0
      },
      "text/plain": [
       "Calculating Metrics:   0%|          | 0/11 [00:00<?, ?it/s]"
      ]
     },
     "metadata": {},
     "output_type": "display_data"
    }
   ],
   "source": [
    "# Add the same expectations as the single-file\n",
    "validator.expect_column_values_to_not_be_null(\"vendor_id\")\n",
    "validator.expect_column_values_to_not_be_null(\"rate_code_id\")\n",
    "validator.expect_column_values_to_not_be_null(\"dropoff_location_id\")\n",
    "validator.expect_column_values_to_not_be_null(\"pickup_location_id\")\n",
    "validator.expect_column_values_to_not_be_null(\"payment_type_id\")\n",
    "validator.expect_column_values_to_not_be_null(\"service_type\")\n",
    "validator.expect_column_values_to_not_be_null(\"pickup_latitude\")\n",
    "validator.expect_column_values_to_not_be_null(\"pickup_longitude\")\n",
    "validator.expect_column_values_to_not_be_null(\"dropoff_latitude\")\n",
    "validator.expect_column_values_to_not_be_null(\"dropoff_longitude\")\n",
    "\n",
    "validator.expect_column_values_to_be_between(\"trip_distance\", min_value=0, max_value=100)\n",
    "validator.expect_column_values_to_be_between(\"extra\", min_value=0, max_value=3)\n",
    "\n",
    "validator.save_expectation_suite(discard_failed_expectations=False)"
   ]
  },
  {
   "cell_type": "code",
   "execution_count": 43,
   "metadata": {},
   "outputs": [
    {
     "data": {
      "application/vnd.jupyter.widget-view+json": {
       "model_id": "8b9ec06ca40045479d61d78f197be52a",
       "version_major": 2,
       "version_minor": 0
      },
      "text/plain": [
       "Calculating Metrics:   0%|          | 0/97 [00:00<?, ?it/s]"
      ]
     },
     "metadata": {},
     "output_type": "display_data"
    }
   ],
   "source": [
    "# Similar to a single file, create a checkpoint to validate the result\n",
    "# Define the checkpoint\n",
    "checkpoint = context.add_or_update_checkpoint(\n",
    "    name=\"staging_tripdata_asset_checkpoint\",\n",
    "    validator=validator\n",
    ")\n",
    "\n",
    "# Get the result after validator\n",
    "checkpoint_result = checkpoint.run()\n",
    "\n",
    "# Quick view on the validation result\n",
    "context.view_validation_result(checkpoint_result)"
   ]
  },
  {
   "cell_type": "code",
   "execution_count": null,
   "metadata": {},
   "outputs": [],
   "source": []
  }
 ],
 "metadata": {
  "kernelspec": {
   "display_name": "bigdata",
   "language": "python",
   "name": "python3"
  },
  "language_info": {
   "codemirror_mode": {
    "name": "ipython",
    "version": 3
   },
   "file_extension": ".py",
   "mimetype": "text/x-python",
   "name": "python",
   "nbconvert_exporter": "python",
   "pygments_lexer": "ipython3",
   "version": "3.9.0"
  }
 },
 "nbformat": 4,
 "nbformat_minor": 2
}
